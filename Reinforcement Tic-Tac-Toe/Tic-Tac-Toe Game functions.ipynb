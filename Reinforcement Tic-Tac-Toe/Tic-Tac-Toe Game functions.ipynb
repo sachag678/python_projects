{
 "cells": [
  {
   "cell_type": "markdown",
   "metadata": {},
   "source": [
    "# Starting by building the game and the user interface"
   ]
  },
  {
   "cell_type": "code",
   "execution_count": 1,
   "metadata": {
    "collapsed": true
   },
   "outputs": [],
   "source": [
    "import numpy as np"
   ]
  },
  {
   "cell_type": "code",
   "execution_count": 2,
   "metadata": {
    "collapsed": true
   },
   "outputs": [],
   "source": [
    "def showBoard():\n",
    "    '''Shows the board'''\n",
    "    for val in board:\n",
    "        print(val)\n",
    "\n",
    "def checkFree(x,y):\n",
    "    '''Takes an x,y postion and checks if that point on the board is free'''\n",
    "    if board[x,y] ==0:\n",
    "        return True\n",
    "    else:\n",
    "        return False\n",
    "def checkWin(toggle):\n",
    "    '''checks wins for each player for diagonals, rows, columns'''\n",
    "    if toggle:\n",
    "        high = 6\n",
    "    else:\n",
    "        high = 15\n",
    "    if board.diagonal().sum() == high:\n",
    "        return True\n",
    "    if np.flip(board,1).diagonal().sum() == high:\n",
    "        return True\n",
    "    for val in range(0,3):\n",
    "        if board[val,:].sum()==high:\n",
    "            return True\n",
    "    for val in range(0,3):\n",
    "        if board[:,val].sum()==high:\n",
    "            return True\n",
    "    return False\n",
    "\n",
    "def getAvailablePositions():\n",
    "    pos = []\n",
    "    for i in range(3):\n",
    "        for j in range(3):\n",
    "            if checkFree(i,j):\n",
    "                pos.append([i,j])\n",
    "    return pos\n",
    "\n",
    "def placePiece(x,y,nought_or_cross):\n",
    "    '''Takes a x, y position and a X or O with X=1, and O=2'''\n",
    "    board[x,y] = nought_or_cross"
   ]
  },
  {
   "cell_type": "code",
   "execution_count": 11,
   "metadata": {
    "collapsed": true
   },
   "outputs": [],
   "source": [
    "def init():\n",
    "    '''Initilizes the q-values'''\n",
    "    q_val = {}\n",
    "    n_val = {}\n",
    "    moves = [[0,1],[0,2],[1,2],[2,2],[2,1],[0,0],[1,0],[1,1],[2,0]]\n",
    "    for val in moves:\n",
    "        q_val[str(val)]=0\n",
    "    for val in moves:\n",
    "        n_val[str(val)]=0\n",
    "    return q_val,n_val\n",
    "\n",
    "def predict(avail_moves,epsilon,q_val):\n",
    "    '''Takes the available moves, epsilon and q_values\n",
    "        Chooses a random move from the available moves if the random number is higher than epsilon. \n",
    "        Chooses the available move which has the highest q_val \n",
    "        Returns the move chosen\n",
    "    '''\n",
    "    ran_num = np.random.rand()\n",
    "    if ran_num > epsilon:\n",
    "        return avail_moves[np.random.randint(len(avail_moves))]\n",
    "    else:\n",
    "        max = q_val[str(avail_moves[0])]\n",
    "        for val in avail_moves:\n",
    "            if q_val[str(val)]>=max:\n",
    "                max = q_val[str(val)]\n",
    "                best = val\n",
    "        return best\n",
    "\n",
    "def updateQValues(movesPerformed,q_val,reward, n_values):\n",
    "    '''Updates q-values using the old q_vals, rewards and gameNum'''\n",
    "    for move in movesPerformed:\n",
    "        n = n_values[str(move)]\n",
    "        q_val[str(move)] = ((n-1)/float(n))*q_val[str(move)]+reward*(1/float(n))\n",
    "    return q_val\n",
    "\n",
    "def updateNValues(movesPerformed,n_val):\n",
    "    '''Updates q-values using the old n_vals, rewards and gameNum'''\n",
    "    for move in movesPerformed:\n",
    "        n_val[str(move)] = n_val[str(move)]+1\n",
    "    return n_val\n",
    "\n",
    "def reward(result,num_moves):\n",
    "    '''Reward a game won or lost'''\n",
    "    if result == 'lost':\n",
    "        return -10+(-num_moves)\n",
    "    elif result== 'win':\n",
    "        return 10+(-num_moves)\n",
    "    else:\n",
    "        return 0+(-num_moves)\n",
    "\n",
    "def chooseEpsilon(epoch):\n",
    "    return 1-np.exp(-epoch/10)"
   ]
  },
  {
   "cell_type": "code",
   "execution_count": 12,
   "metadata": {
    "collapsed": true
   },
   "outputs": [],
   "source": [
    "#run function\n",
    "q_values, n_values = init()\n",
    "\n",
    "for epoch in range(1,10000):\n",
    "    \n",
    "    toggle = False\n",
    "    board = np.zeros((3,3))\n",
    "    expert = [[0,1],[0,2],[1,2],[2,2],[2,1],[0,0],[1,0],[1,1],[2,0]]\n",
    "    count = 0\n",
    "    moves = []\n",
    "    epsilon = chooseEpsilon(epoch)\n",
    "    \n",
    "    while True:\n",
    "        toggle = not toggle\n",
    "        if toggle:\n",
    "            move = predict(getAvailablePositions(),epsilon,q_values)\n",
    "            x = move[0]\n",
    "            y = move[1]\n",
    "            moves.append(move)\n",
    "        else:\n",
    "            x = expert[count][0]\n",
    "            y = expert[count][1]\n",
    "            count = count+1\n",
    "            while not checkFree(x,y):\n",
    "                x = expert[count][0]\n",
    "                y = expert[count][1]\n",
    "                count = count+1\n",
    "        if toggle == True:\n",
    "            n_or_c = 5\n",
    "        else:\n",
    "            n_or_c = 2\n",
    "        placePiece(int(x),int(y),n_or_c)\n",
    "        if checkWin(toggle):\n",
    "            result = 'lost'\n",
    "            break\n",
    "        elif checkWin(not toggle):\n",
    "            result = 'win'\n",
    "            break\n",
    "        elif not getAvailablePositions():\n",
    "            result = 'draw'\n",
    "            break\n",
    "    n_values = updateNValues(moves,n_values)\n",
    "    q_values = updateQValues(moves,q_values, reward(result, len(moves)),n_values)"
   ]
  },
  {
   "cell_type": "markdown",
   "metadata": {},
   "source": [
    "#### Initial thoughts: Have an set of actions to choose from. i.e the available board positions and either randomly pick one or choose the one that provided the best reward in the past. This means we need to define rewards for each individual placements. But we are not taking into account the temporal element as well as the rest of the board. Is this important? I would think so. Or is there a list of optimal positions in descending order so if one is chosen then choose the next best in the list.\n",
    "\n",
    "#### Other option is to have a reward for each game: Then each set of moves made by the agent is rated. The reward per each move is then summed up and you get the distribution for each move. Then the agent can select the best moves based on the rewards.  \n",
    "\n",
    "#### This also means I have to play thousands of games to teach the agent. Otherwise I have to create a good expert. We could have an expert that plays a specific game"
   ]
  },
  {
   "cell_type": "code",
   "execution_count": 13,
   "metadata": {},
   "outputs": [
    {
     "data": {
      "text/plain": [
       "{'[0, 0]': 6.998999599839892,\n",
       " '[0, 1]': 6.0,\n",
       " '[0, 2]': 5.0,\n",
       " '[1, 0]': 5.800000000000001,\n",
       " '[1, 1]': 6.998899559823913,\n",
       " '[1, 2]': 5.800000000000001,\n",
       " '[2, 0]': 5.833333333333334,\n",
       " '[2, 1]': 6.0,\n",
       " '[2, 2]': 6.998899669900954}"
      ]
     },
     "execution_count": 13,
     "metadata": {},
     "output_type": "execute_result"
    }
   ],
   "source": [
    "q_values"
   ]
  },
  {
   "cell_type": "code",
   "execution_count": 14,
   "metadata": {},
   "outputs": [
    {
     "name": "stdout",
     "output_type": "stream",
     "text": [
      "[ 0.  0.  0.]\n",
      "[ 0.  0.  0.]\n",
      "[ 0.  0.  0.]\n",
      "agent moves\n",
      "[ 5.  0.  0.]\n",
      "[ 0.  0.  0.]\n",
      "[ 0.  0.  0.]\n",
      "expert moves\n",
      "[ 5.  2.  0.]\n",
      "[ 0.  0.  0.]\n",
      "[ 0.  0.  0.]\n",
      "agent moves\n",
      "[ 5.  2.  0.]\n",
      "[ 0.  0.  0.]\n",
      "[ 0.  0.  5.]\n",
      "expert moves\n",
      "[ 5.  2.  2.]\n",
      "[ 0.  0.  0.]\n",
      "[ 0.  0.  5.]\n",
      "agent moves\n",
      "5 has won!\n",
      "[ 5.  2.  2.]\n",
      "[ 0.  5.  0.]\n",
      "[ 0.  0.  5.]\n"
     ]
    }
   ],
   "source": [
    "#test function\n",
    "\n",
    "for epoch in range(1,2):\n",
    "    \n",
    "    toggle = False\n",
    "    board = np.zeros((3,3))\n",
    "    expert = [[0,1],[0,2],[1,2],[2,2],[2,1],[0,0],[1,0],[1,1],[2,0]]\n",
    "    count = 0\n",
    "    moves = []\n",
    "    epsilon = chooseEpsilon(epoch)\n",
    "    \n",
    "    while True:\n",
    "        toggle = not toggle\n",
    "        showBoard()\n",
    "        if toggle:\n",
    "            print('agent moves')\n",
    "            move = predict(getAvailablePositions(),1,q_values)\n",
    "            x = move[0]\n",
    "            y = move[1]\n",
    "            moves.append(move)\n",
    "        else:\n",
    "            print('expert moves')\n",
    "            x = expert[count][0]\n",
    "            y = expert[count][1]\n",
    "            count = count+1\n",
    "            while not checkFree(x,y):\n",
    "                x = expert[count][0]\n",
    "                y = expert[count][1]\n",
    "                count = count+1\n",
    "        if toggle == True:\n",
    "            n_or_c = 5\n",
    "        else:\n",
    "            n_or_c = 2\n",
    "        placePiece(int(x),int(y),n_or_c)\n",
    "        if checkWin(toggle):\n",
    "            print('2 has won!')\n",
    "            break\n",
    "        elif checkWin(not toggle):\n",
    "            print('5 has won!')\n",
    "            break\n",
    "        elif not getAvailablePositions():\n",
    "            print('draw')\n",
    "            break\n",
    "    \n",
    "    showBoard() \n",
    "\n"
   ]
  },
  {
   "cell_type": "code",
   "execution_count": null,
   "metadata": {
    "collapsed": true
   },
   "outputs": [],
   "source": []
  }
 ],
 "metadata": {
  "kernelspec": {
   "display_name": "Python 3",
   "language": "python",
   "name": "python3"
  },
  "language_info": {
   "codemirror_mode": {
    "name": "ipython",
    "version": 3
   },
   "file_extension": ".py",
   "mimetype": "text/x-python",
   "name": "python",
   "nbconvert_exporter": "python",
   "pygments_lexer": "ipython3",
   "version": "3.6.1"
  }
 },
 "nbformat": 4,
 "nbformat_minor": 2
}
