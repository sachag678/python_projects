{
 "cells": [
  {
   "cell_type": "markdown",
   "metadata": {},
   "source": [
    "# Starting by building the game and the user interface"
   ]
  },
  {
   "cell_type": "code",
   "execution_count": null,
   "metadata": {
    "collapsed": true
   },
   "outputs": [],
   "source": [
    "import numpy as np"
   ]
  },
  {
   "cell_type": "code",
   "execution_count": null,
   "metadata": {},
   "outputs": [],
   "source": [
    "def showBoard():\n",
    "    '''Shows the board'''\n",
    "    for val in board:\n",
    "        print(val)\n",
    "\n",
    "def checkFree(x,y):\n",
    "    '''Takes an x,y postion and checks if that point on the board is free'''\n",
    "    if board[x,y] ==0:\n",
    "        return True\n",
    "    else:\n",
    "        return False\n",
    "def checkWin(toggle):\n",
    "    '''checks wins for each player for diagonals, rows, columns'''\n",
    "    if toggle:\n",
    "        high = 6\n",
    "    else:\n",
    "        high = 15\n",
    "    if board.diagonal().sum() == high:\n",
    "        return True\n",
    "    if np.flip(board,1).diagonal().sum() == high:\n",
    "        return True\n",
    "    for val in range(0,3):\n",
    "        if board[val,:].sum()==high:\n",
    "            return True\n",
    "    for val in range(0,3):\n",
    "        if board[:,val].sum()==high:\n",
    "            return True\n",
    "    return False\n",
    "\n",
    "def getAvailablePositions():\n",
    "    pos = []\n",
    "    for i in range(3):\n",
    "        for j in range(3):\n",
    "            if checkFree(i,j):\n",
    "                pos.append([i,j])\n",
    "    return pos\n",
    "\n",
    "def placePiece(x,y,nought_or_cross):\n",
    "    '''Takes a x, y position and a X or O with X=1, and O=2'''\n",
    "    board[x,y] = nought_or_cross"
   ]
  },
  {
   "cell_type": "code",
   "execution_count": null,
   "metadata": {},
   "outputs": [],
   "source": [
    "#run function\n",
    "toggle = False\n",
    "board = np.zeros((3,3))\n",
    "expert = [[0,1],[0,2],[1,2],[2,2],[2,1],[0,0],[1,0],[1,1],[2,0]]\n",
    "q_values = init()\n",
    "count = 0\n",
    "while True:\n",
    "    #showBoard()\n",
    "    toggle = not toggle\n",
    "    \n",
    "    if toggle:\n",
    "        x = input('Please enter X')\n",
    "        y = input('Please enter Y')\n",
    "        while not checkFree(int(x),int(y)):\n",
    "            print('Please enter a free location!')\n",
    "            x = input('Please enter X')\n",
    "            y = input('Please enter Y')\n",
    "    else:\n",
    "        x = expert[count][0]\n",
    "        y = expert[count][1]\n",
    "        count = count+1\n",
    "        while not checkFree(x,y):\n",
    "            x = expert[count][0]\n",
    "            y = expert[count][1]\n",
    "            count = count+1\n",
    "        print('Expert turn')\n",
    "\n",
    "    if toggle == True:\n",
    "        n_or_c = 5\n",
    "    else:\n",
    "        n_or_c = 2\n",
    "    placePiece(int(x),int(y),n_or_c)\n",
    "    if checkWin(toggle):\n",
    "        print('2 has won!')\n",
    "        break\n",
    "    if checkWin(not toggle):\n",
    "        print('5 has won!')\n",
    "        break\n",
    "\n",
    "showBoard()"
   ]
  },
  {
   "cell_type": "code",
   "execution_count": null,
   "metadata": {
    "collapsed": true
   },
   "outputs": [],
   "source": [
    "def reward(result):\n",
    "    '''Reward a game won or lost'''\n",
    "    if result == 'lost':\n",
    "        return -10\n",
    "    else:\n",
    "        return 10"
   ]
  },
  {
   "cell_type": "markdown",
   "metadata": {},
   "source": [
    "#### Initial thoughts: Have an set of actions to choose from. i.e the available board positions and either randomly pick one or choose the one that provided the best reward in the past. This means we need to define rewards for each individual placements. But we are not taking into account the temporal element as well as the rest of the board. Is this important? I would think so. Or is there a list of optimal positions in descending order so if one is chosen then choose the next best in the list.\n",
    "\n",
    "#### Other option is to have a reward for each game: Then each set of moves made by the agent is rated. The reward per each move is then summed up and you get the distribution for each move. Then the agent can select the best moves based on the rewards.  \n",
    "\n",
    "#### This also means I have to play thousands of games to teach the agent. Otherwise I have to create a good expert. We could have an expert that plays a specific game"
   ]
  },
  {
   "cell_type": "code",
   "execution_count": null,
   "metadata": {},
   "outputs": [],
   "source": [
    "def init():\n",
    "    '''Initilizes the q-values'''\n",
    "    q_val = {}\n",
    "    expert = [[0,1],[0,2],[1,2],[2,2],[2,1],[0,0],[1,0],[1,1],[2,0]]\n",
    "    for val in expert:\n",
    "        q_val[str(val)]=0\n",
    "    return q_val\n",
    "\n",
    "def predict(avail_moves,epsilon,q_val):\n",
    "    '''Takes the available moves, epsilon and q_values\n",
    "        Chooses a random move from the available moves if the random number is higher than epsilon. \n",
    "        Chooses the available move which has the highest q_val \n",
    "        Returns the move chosen\n",
    "    '''\n",
    "    ran_num = np.random.rand()\n",
    "    if ran_num > epsilon:\n",
    "        return np.random.choice(avail_moves)\n",
    "    else:\n",
    "        max = 0\n",
    "        for val in avail_moves:\n",
    "            if q_val[str(val)]>max:\n",
    "                max = q_val[str(val)]\n",
    "                best = val\n",
    "        return best\n",
    "\n",
    "def updateQValues(movesPerformed,q_val,reward,gameNum):\n",
    "    for move in movesPerformed:\n",
    "        q_val[str(move)] = (q_val[str(move)]+reward)/gameNum\n",
    "    return q_val\n",
    "    "
   ]
  },
  {
   "cell_type": "code",
   "execution_count": null,
   "metadata": {
    "collapsed": true
   },
   "outputs": [],
   "source": []
  }
 ],
 "metadata": {
  "kernelspec": {
   "display_name": "Python 3",
   "language": "python",
   "name": "python3"
  },
  "language_info": {
   "codemirror_mode": {
    "name": "ipython",
    "version": 3
   },
   "file_extension": ".py",
   "mimetype": "text/x-python",
   "name": "python",
   "nbconvert_exporter": "python",
   "pygments_lexer": "ipython3",
   "version": "3.6.1"
  }
 },
 "nbformat": 4,
 "nbformat_minor": 2
}
