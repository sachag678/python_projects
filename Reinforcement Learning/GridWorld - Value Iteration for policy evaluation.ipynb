{
 "cells": [
  {
   "cell_type": "code",
   "execution_count": 1,
   "metadata": {
    "collapsed": true
   },
   "outputs": [],
   "source": [
    "import numpy as np"
   ]
  },
  {
   "cell_type": "code",
   "execution_count": 25,
   "metadata": {
    "collapsed": true
   },
   "outputs": [],
   "source": [
    "def update(i,j, transition_reward,board_size,board):\n",
    "    '''Calculates the individual summation of a random policy for a given location i,j\n",
    "        params: i - location on the grid\n",
    "                j - location on the grid\n",
    "                transition_reward - the reward for moving to a new state\n",
    "                board_size - the size of the board\n",
    "                board - the current board\n",
    "        return:\n",
    "                sum - the summation of the 4 directions using the bellman update (1/len(a)) *summation_a transition_reward+q(s|a)\n",
    "    '''\n",
    "    if(i==0 and j==0):\n",
    "        return 0.0\n",
    "    if(i==board_size-1 and j==board_size-1):\n",
    "        return 0.0\n",
    "    sum = 0\n",
    "    if(i!=0 and j!=0 and i!=board_size-1 and j!=board_size-1):\n",
    "        sum=sum+board[i-1][j]+transition_reward\n",
    "        sum=sum+board[i+1][j]+transition_reward\n",
    "        sum=sum+board[i][j-1]+transition_reward\n",
    "        sum=sum+board[i][j+1]+transition_reward\n",
    "        return sum/4\n",
    "    if(i==0 and j!=board_size-1 and j!=0):\n",
    "        sum=sum+board[i][j]+transition_reward\n",
    "        sum=sum+board[i+1][j]+transition_reward\n",
    "        sum=sum+board[i][j-1]+transition_reward\n",
    "        sum=sum+board[i][j+1]+transition_reward\n",
    "        return sum/4\n",
    "    if(i==board_size-1 and j!=board_size-1 and j!=0):\n",
    "        sum=sum+board[i][j]+transition_reward\n",
    "        sum=sum+board[i-1][j]+transition_reward\n",
    "        sum=sum+board[i][j-1]+transition_reward\n",
    "        sum=sum+board[i][j+1]+transition_reward\n",
    "        return sum/4\n",
    "    if(i==0 and j==board_size-1):\n",
    "        sum=sum+board[i+1][j]+transition_reward\n",
    "        sum=sum+board[i][j]+transition_reward\n",
    "        sum=sum+board[i][j-1]+transition_reward\n",
    "        sum=sum+board[i][j]+transition_reward\n",
    "        return sum/4\n",
    "    if(i==board_size-1 and j==0):\n",
    "        sum=sum+board[i][j]+transition_reward\n",
    "        sum=sum+board[i-1][j]+transition_reward\n",
    "        sum=sum+board[i][j]+transition_reward\n",
    "        sum=sum+board[i][j+1]+transition_reward\n",
    "        return sum/4\n",
    "    if(j==0 and i!=0 and i!=board_size-1):\n",
    "        sum=sum+board[i+1][j]+transition_reward\n",
    "        sum=sum+board[i-1][j]+transition_reward\n",
    "        sum=sum+board[i][j]+transition_reward\n",
    "        sum=sum+board[i][j+1]+transition_reward\n",
    "        return sum/4\n",
    "    if(j==board_size-1 and i!=0 and i!=board_size-1):\n",
    "        sum=sum+board[i+1][j]+transition_reward\n",
    "        sum=sum+board[i-1][j]+transition_reward\n",
    "        sum=sum+board[i][j-1]+transition_reward\n",
    "        sum=sum+board[i][j]+transition_reward\n",
    "        return sum/4\n",
    "    return 1.0"
   ]
  },
  {
   "cell_type": "code",
   "execution_count": 62,
   "metadata": {
    "collapsed": true
   },
   "outputs": [],
   "source": [
    "def evaluate(transition_reward,board_size,board):\n",
    "    '''Takes a board and calculates one cycle of an update\n",
    "        params: transition_reward - the reward for moving to a new state\n",
    "                board_size - the size of the board\n",
    "                board - the current board\n",
    "        return: new_board - an updated board\n",
    "    '''\n",
    "    new_board = np.zeros((board_size,board_size))\n",
    "    for i in range(board_size):\n",
    "        for j in range(board_size):\n",
    "            new_board[i][j] = update(i,j,transition_reward,board_size,board)\n",
    "    return new_board"
   ]
  },
  {
   "cell_type": "code",
   "execution_count": 63,
   "metadata": {
    "collapsed": true
   },
   "outputs": [],
   "source": [
    "def setUp_and_run(board_size,transition_reward,cycles):\n",
    "    '''Updates a board based on the number of cycles and stops when it reaches convergence\n",
    "        params: transition_reward - the reward for moving to a new state\n",
    "                board_size - the size of the board\n",
    "                cycles - number of iterations to update the value function\n",
    "        return:\n",
    "                board - a optimal valued board\n",
    "    '''\n",
    "    board = np.zeros((board_size,board_size))\n",
    "    for epoch in range(cycles):  \n",
    "        updated_board = evaluate(transition_reward,board_size,board)\n",
    "        if(abs(board[1][1]-updated_board[1][1])<0.000001):\n",
    "            print('Converged at number of cycles: ',epoch)\n",
    "            return board\n",
    "        board = updated_board  \n",
    "    return board"
   ]
  },
  {
   "cell_type": "code",
   "execution_count": 64,
   "metadata": {},
   "outputs": [
    {
     "name": "stdout",
     "output_type": "stream",
     "text": [
      "Converged at number of cycles:  252\n"
     ]
    },
    {
     "data": {
      "text/plain": [
       "array([[  0.        , -13.99998586, -19.99997905, -21.99997656],\n",
       "       [-13.99998586, -17.99998154, -19.99997919, -19.99997905],\n",
       "       [-19.99997905, -19.99997919, -17.99998154, -13.99998586],\n",
       "       [-21.99997656, -19.99997905, -13.99998586,   0.        ]])"
      ]
     },
     "execution_count": 64,
     "metadata": {},
     "output_type": "execute_result"
    }
   ],
   "source": [
    "setUp_and_run(4,-1,1000)"
   ]
  },
  {
   "cell_type": "code",
   "execution_count": null,
   "metadata": {
    "collapsed": true
   },
   "outputs": [],
   "source": []
  }
 ],
 "metadata": {
  "kernelspec": {
   "display_name": "Python 3",
   "language": "python",
   "name": "python3"
  },
  "language_info": {
   "codemirror_mode": {
    "name": "ipython",
    "version": 3
   },
   "file_extension": ".py",
   "mimetype": "text/x-python",
   "name": "python",
   "nbconvert_exporter": "python",
   "pygments_lexer": "ipython3",
   "version": "3.6.1"
  }
 },
 "nbformat": 4,
 "nbformat_minor": 2
}
