{
 "cells": [
  {
   "cell_type": "code",
   "execution_count": 1,
   "metadata": {
    "collapsed": true
   },
   "outputs": [],
   "source": [
    "import numpy as np\n",
    "import matplotlib.pyplot as plt\n",
    "from mpl_toolkits.mplot3d import Axes3D\n",
    "from matplotlib import cm"
   ]
  },
  {
   "cell_type": "code",
   "execution_count": 50,
   "metadata": {
    "collapsed": true
   },
   "outputs": [],
   "source": [
    "def step(state, action, verbose=False):\n",
    "    '''Takes an action and performs it on the current state and returns the updated state\n",
    "    params: state: the state of the environement - namely the sum of the dealers cards and the sum of the players cards in a \n",
    "    tuple\n",
    "            action: hit or stick\n",
    "    return:\n",
    "            updated_state - updated state after the action has been performed\n",
    "    '''\n",
    "    if(action =='stick'):\n",
    "        if state[0]>0 and state[0] <=17 and state[1]<=21:\n",
    "            updated_state = (updateState(state[0], drawCard(verbose)), state[1])\n",
    "            if verbose:\n",
    "                print('state:',updated_state)\n",
    "            step(updated_state,'stick', verbose)\n",
    "        else:\n",
    "            return state, getReward(state,True)\n",
    "    if action == 'hit':\n",
    "        updated_state = (state[0], updateState(state[1], drawCard(verbose)))\n",
    "    return updated_state, getReward(updated_state,False)\n",
    "\n",
    "def init():\n",
    "    '''Draw two random black cards and return the state\n",
    "    \n",
    "    return:\n",
    "        state: the initial state of the player and dealer '''\n",
    "    state = (np.random.randint(1,11),np.random.randint(1,11))\n",
    "    return state\n",
    "\n",
    "def drawCard(verbose=False):\n",
    "    '''Draws a random black or red card. The prob of black is 2/3 and red is 1/3\n",
    "    return:\n",
    "        card: a random black or red card from 1-10 inclusive'''\n",
    "    n = np.random.randint(3)\n",
    "    card = np.random.randint(1,11)\n",
    "    if n == 1 or n == 2:\n",
    "        if verbose:\n",
    "            print('Drew a black', card)\n",
    "        return card\n",
    "    else:\n",
    "        if verbose:\n",
    "            print('Drew a red', card)\n",
    "        return -1*card\n",
    "\n",
    "def updateState(s,newCard):\n",
    "    '''Adds the new card value to the original card value\n",
    "    params: s: the original value of the state\n",
    "            newCard: the new card value\n",
    "    return:\n",
    "            s: the updated value'''\n",
    "    return s + newCard\n",
    "\n",
    "def chooseAction(state):\n",
    "    '''Very basic Policy\n",
    "    params: state: current state of the environment\n",
    "    return:\n",
    "        the action to be performed'''\n",
    "    if state[1] >= 20:\n",
    "        return 'stick'\n",
    "    else:\n",
    "        return 'hit'\n",
    "    \n",
    "def getReward(state, check):\n",
    "    '''Gets the reward for performing the action on the current state of the environment\n",
    "    params: state: the state of the environment\n",
    "            check: whether the player has said stick or not\n",
    "    return: the reward based on the rules'''\n",
    "    if state[0] <=21 and state[1] <=21 and state[1]>0 and state[0]>0:\n",
    "        if check==True:\n",
    "            if state[1]>state[0]:\n",
    "                return 1\n",
    "            elif state[0]>state[1]:\n",
    "                return -1\n",
    "            else:\n",
    "                return 0\n",
    "        else:\n",
    "            return 0\n",
    "    elif state[0]>21 and state[1] <=21 and state[1]>0:\n",
    "        return 1\n",
    "    elif state[0]<1 and state[1] <=21 and state[1]>0:\n",
    "        return 1\n",
    "    elif state[1]>21 and state[0]>0 and state[0]<=21:\n",
    "        return -1\n",
    "    elif state[1]<1 and state[0]>0 and state[0]<=21:\n",
    "        return -1\n",
    "    else:\n",
    "        return 0\n",
    "\n",
    "def gameOver(state,check):\n",
    "    '''Checks the status of the game'''\n",
    "    if state[0] <=21 and state[1] <=21 and state[1]>0 and state[0]>0:\n",
    "        if check==True:\n",
    "            return True\n",
    "        else:\n",
    "            return False\n",
    "    elif state[0]>21 and state[1] <=21 and state[1]>0:\n",
    "        return True\n",
    "    elif state[0]<1 and state[1] <=21 and state[1]>0:\n",
    "        return True\n",
    "    elif state[1]>21 and state[0]>0 and state[0]<=21:\n",
    "        return True\n",
    "    elif state[1]<1 and state[0]>0 and state[0]<=21:\n",
    "        return True\n",
    "    else:\n",
    "        return False\n",
    "\n",
    "def updateValue(rewards, count):\n",
    "    '''Calculate the value function based on the rewards and the count. Using the everytime visit monte carlo update\n",
    "    params: rewards: cumulative reward over n games\n",
    "            count: number of times visiting specific states\n",
    "    return:\n",
    "        the updated value function'''\n",
    "    v = np.zeros((10,21))\n",
    "    for i in range(10):\n",
    "        for j in range(21):\n",
    "            if count[i][j] !=0:\n",
    "                v[i][j] = rewards[i][j]/count[i][j]\n",
    "    return v\n",
    "\n",
    "def updateRewards(locList, rewards,reward):\n",
    "    '''Takes the rewards, reward and list of visited states and updates the rewards'''\n",
    "    for x,y in locList.keys():\n",
    "        rewards[x][y]= rewards[x][y]+reward\n",
    "    return rewards"
   ]
  },
  {
   "cell_type": "code",
   "execution_count": 51,
   "metadata": {
    "collapsed": true
   },
   "outputs": [],
   "source": [
    "def run(verbose,num_epochs):\n",
    "    '''Runs the experiment for a number of epochs and returns the value fucntion\n",
    "    params: verbose: whether to print out statements\n",
    "            num_epcochs: number of episodes to run\n",
    "    return: \n",
    "        updated value function'''\n",
    "    value = np.zeros((10,21))\n",
    "    count = np.zeros((10,21))\n",
    "    rewards = np.zeros((10,21))\n",
    "    for epoch in range(num_epochs):\n",
    "        loc = {}\n",
    "        state = init()     \n",
    "        if verbose:\n",
    "            print('state:', state)\n",
    "        while True:\n",
    "            x = state[0]-1\n",
    "            y = state[1]-1\n",
    "            loc[(x,y)]=0\n",
    "            count[x][y] = count[x][y] + 1\n",
    "            action = chooseAction(state)\n",
    "            if verbose:\n",
    "                print('action:' , action)\n",
    "            new_state, reward = step(state, action, verbose)\n",
    "            #rewards[x][y] = rewards[x][y] + reward\n",
    "            if verbose:\n",
    "                print('new state:', new_state)\n",
    "                print('reward:', reward)      \n",
    "            if gameOver(new_state,action=='stick'):\n",
    "                break\n",
    "            state = new_state\n",
    "        rewards = updateRewards(loc,rewards,reward) \n",
    "    value = updateValue(rewards,count)\n",
    "    return value"
   ]
  },
  {
   "cell_type": "code",
   "execution_count": 48,
   "metadata": {
    "collapsed": true
   },
   "outputs": [],
   "source": [
    "def plot_value_fcn(val):\n",
    "    '''Plots the value function'''\n",
    "    X = np.arange(0, 10)\n",
    "    Y = np.arange(0, 21)\n",
    "    X, Y = np.meshgrid(X, Y)\n",
    "\n",
    "    fig = plt.figure()\n",
    "    ax = fig.gca(projection='3d')\n",
    "\n",
    "    surf = ax.plot_surface(np.transpose(X), np.transpose(Y), val, cmap=cm.coolwarm)\n",
    "\n",
    "    # Customize the z axis.\n",
    "    ax.set_zlim(-1.01, 1.01)\n",
    "\n",
    "    # Add a color bar which maps values to colors.\n",
    "    fig.colorbar(surf, shrink=0.5, aspect=5)\n",
    "\n",
    "    plt.show()"
   ]
  },
  {
   "cell_type": "code",
   "execution_count": 52,
   "metadata": {},
   "outputs": [
    {
     "data": {
      "image/png": "[encoded data removed]",
      "text/plain": [
       "<matplotlib.figure.Figure at 0x210fd2410f0>"
      ]
     },
     "metadata": {},
     "output_type": "display_data"
    }
   ],
   "source": [
    "val = run(False,100000)\n",
    "plot_value_fcn(val)"
   ]
  },
  {
   "cell_type": "markdown",
   "metadata": {},
   "source": [
    "## currently the policy that is being evaluated is a very simple policy. The player hits unless the sum of his cards is greater than or equal to 20. The value function after performing 50000 monte carlo simulations is shown above. "
   ]
  },
  {
   "cell_type": "markdown",
   "metadata": {
    "collapsed": true
   },
   "source": [
    "## The game is shown here: http://localhost:8888/?token=68637d8faf348ca8c684f84daff2a8f772041876bad693c5"
   ]
  },
  {
   "cell_type": "markdown",
   "metadata": {},
   "source": [
    "## This iteration of Monte Carlo relies on keeping track of all the values for all the games and then calculating the value function at the end. There is an incremental method to update the value function which eliminates this need. "
   ]
  },
  {
   "cell_type": "code",
   "execution_count": null,
   "metadata": {
    "collapsed": true
   },
   "outputs": [],
   "source": []
  }
 ],
 "metadata": {
  "kernelspec": {
   "display_name": "Python 3",
   "language": "python",
   "name": "python3"
  },
  "language_info": {
   "codemirror_mode": {
    "name": "ipython",
    "version": 3
   },
   "file_extension": ".py",
   "mimetype": "text/x-python",
   "name": "python",
   "nbconvert_exporter": "python",
   "pygments_lexer": "ipython3",
   "version": "3.6.1"
  }
 },
 "nbformat": 4,
 "nbformat_minor": 2
}
