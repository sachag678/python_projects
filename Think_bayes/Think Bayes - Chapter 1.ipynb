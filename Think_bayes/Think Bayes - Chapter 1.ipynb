{
 "cells": [
  {
   "cell_type": "markdown",
   "metadata": {},
   "source": [
    "# Chapter 1"
   ]
  },
  {
   "cell_type": "code",
   "execution_count": 2,
   "metadata": {
    "collapsed": true
   },
   "outputs": [],
   "source": [
    "#the cookie problem\n",
    "# [vanilla,choclate]\n",
    "num_cookies_bowl1 = [30,10]\n",
    "num_cookies_bowl2 = [20,20]\n",
    "\n",
    "#suppose you chose a bowl at random and then select a cookie at random, you get a Vanilla cookie.\n",
    "#what is the probability it came from bowl 1\n",
    "#P(B=1|C=V) = ?"
   ]
  },
  {
   "cell_type": "code",
   "execution_count": 5,
   "metadata": {
    "collapsed": false
   },
   "outputs": [],
   "source": [
    "#using bayes law:\n",
    "# P(B=1|C=V) = P(C=V|B=1)P(B=1)/(P(C=V|B=1)P(B=1)+P(C=V|B=2)P(B=2))\n",
    "# we know P(B=1) = 0.5, P(C=V|B=1)=3/4, P(C=V|B=2) = 1/2\n",
    "pb1,pb2,pcVgivenb1,pcVgivenb2 = 0.5,0.5, 3/4, 1/2"
   ]
  },
  {
   "cell_type": "code",
   "execution_count": 6,
   "metadata": {
    "collapsed": true
   },
   "outputs": [],
   "source": [
    "pb1givencV = pcVgivenb1*pb1/(pcVgivenb2*pb2+pcVgivenb1*pb1)"
   ]
  },
  {
   "cell_type": "code",
   "execution_count": 7,
   "metadata": {
    "collapsed": false
   },
   "outputs": [
    {
     "data": {
      "text/plain": [
       "0.6"
      ]
     },
     "execution_count": 7,
     "metadata": {},
     "output_type": "execute_result"
    }
   ],
   "source": [
    "pb1givencV"
   ]
  },
  {
   "cell_type": "markdown",
   "metadata": {},
   "source": [
    "## p(H|D)= p(D|H)p(H)/p(D)\n",
    "## D is data and H is hypothesis\n",
    "## posterior -> P(H|D)\n",
    "## prior -> P(H)\n",
    "## likelihood -> P(D|H)\n",
    "## normalizing constant -> p(D)"
   ]
  },
  {
   "cell_type": "code",
   "execution_count": 11,
   "metadata": {
    "collapsed": true
   },
   "outputs": [],
   "source": [
    "#the M&M problem\n",
    "bag1994 = {'brown':0.3,'yellow':0.2,'red':0.2,'green':0.1,'orange':0.1,'tan':0.1}\n",
    "bag1996 = {'brown':0.13,'yellow':0.14,'red':0.13,'green':0.20,'orange':0.16,'blue':0.24}"
   ]
  },
  {
   "cell_type": "code",
   "execution_count": 16,
   "metadata": {
    "collapsed": true
   },
   "outputs": [],
   "source": [
    "#Draws 2 m&Ms, one from each bag, - they are green and yellow. Prob that yellow came from 1994 bag?\n",
    "#P(bag1=1994,bag2=1996|m1=y,m2=g) = p(b1=1994,b2=1996)*p(m1=y|b1=1994)*p(m2=g|b2=1996)/sumoverBags(p(m1=y,m2=g))\n",
    "pb11994andb21996,pmYGgivenb1994b1996,pmYGgivenb1996b1994 = 0.5,bag1994['yellow']*bag1996['green'],bag1996['yellow']*bag1994['green']\n",
    "pyfromb1994 = pmYGgivenb1994b1996*pb11994andb21996/(pmYGgivenb1994b1996*pb11994andb21996+pmYGgivenb1996b1994*pb11994andb21996)"
   ]
  },
  {
   "cell_type": "code",
   "execution_count": 17,
   "metadata": {
    "collapsed": false
   },
   "outputs": [
    {
     "data": {
      "text/plain": [
       "0.7407407407407408"
      ]
     },
     "execution_count": 17,
     "metadata": {},
     "output_type": "execute_result"
    }
   ],
   "source": [
    "pyfromb1994"
   ]
  },
  {
   "cell_type": "code",
   "execution_count": 18,
   "metadata": {
    "collapsed": true
   },
   "outputs": [],
   "source": [
    "#the monty hall problem\n",
    "#fun problem - it only works the 2/3 and 1/3 thing if the guy randomly chooses between the doors that don't have it. \n",
    "#if he chooses always chooses a specific one then, the probs end up being 1/2, 1/2."
   ]
  },
  {
   "cell_type": "code",
   "execution_count": null,
   "metadata": {
    "collapsed": true
   },
   "outputs": [],
   "source": []
  }
 ],
 "metadata": {
  "anaconda-cloud": {},
  "kernelspec": {
   "display_name": "Python [conda root]",
   "language": "python",
   "name": "conda-root-py"
  },
  "language_info": {
   "codemirror_mode": {
    "name": "ipython",
    "version": 3
   },
   "file_extension": ".py",
   "mimetype": "text/x-python",
   "name": "python",
   "nbconvert_exporter": "python",
   "pygments_lexer": "ipython3",
   "version": "3.5.2"
  }
 },
 "nbformat": 4,
 "nbformat_minor": 1
}
